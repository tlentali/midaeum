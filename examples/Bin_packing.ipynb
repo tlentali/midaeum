{
 "cells": [
  {
   "cell_type": "markdown",
   "metadata": {},
   "source": [
    "# Bin packing\n",
    "\n",
    "$min \\sum_{j=1}^{n} y_j \\\\\n",
    "s.c. \\\\\n",
    "\\sum_{i=1}^{n}c_{i} x_{ij} \\leq Cy_j, j=1 \\dots n \\\\\n",
    "\\sum_{j=1}^{n}x_{ij} = 1, i = 1 \\dots n \\\\\n",
    "x_{ij} \\{0,1\\}, i =1 \\dots n, j =1 \\dots n \\\\\n",
    "y_{j} \\{0,1\\}, j =1 \\dots n $"
   ]
  }
 ],
 "metadata": {
  "kernelspec": {
   "display_name": "Python 3",
   "language": "python",
   "name": "python3"
  },
  "language_info": {
   "codemirror_mode": {
    "name": "ipython",
    "version": 3
   },
   "file_extension": ".py",
   "mimetype": "text/x-python",
   "name": "python",
   "nbconvert_exporter": "python",
   "pygments_lexer": "ipython3",
   "version": "3.6.1"
  }
 },
 "nbformat": 4,
 "nbformat_minor": 2
}
