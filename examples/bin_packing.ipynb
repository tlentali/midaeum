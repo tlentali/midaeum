{
 "cells": [
  {
   "cell_type": "markdown",
   "metadata": {},
   "source": [
    "# Bin Packing"
   ]
  },
  {
   "cell_type": "markdown",
   "metadata": {},
   "source": [
    "$\n",
    "\\begin{equation}\n",
    "\\begin{aligned}\n",
    "& \\text{Given a set of :}\\\\ \n",
    "& & \\text{bins } S_1, S_2 \\dots \\text{with the same size } V\\\\\n",
    "& & n \\text{ items with sizes } a_1, \\dots, a_n \\text{ to pack} \\\\\n",
    "& \\text{Objective :} \\\\\n",
    "& & \\text{Find an integer minimal number of bins } B\\\\ \n",
    "\\end{aligned}\n",
    "\\end{equation}\n",
    "$\n",
    "$\n",
    "\\begin{equation}\n",
    "\\begin{aligned}\n",
    "& \\underset{x}{\\text{min}}\n",
    "& & B = \\sum_{i=1}^{n} y_i \\\\\n",
    "& \\text{s.t.}\n",
    "& & B \\geq 1 \\\\ \n",
    "& & & \\sum_{i=1}^{n}a_{j} x_{ij} \\leq Vy_i, \\forall i \\in \\{1, \\dots, n\\} \\\\\n",
    "& & &  \\sum_{i=1}^{n}x_{ij} = 1, \\forall j \\in \\{1, \\dots, n\\} \\\\\n",
    "& & &  x_{ij} \\in \\{0,1\\}, \\forall i \\in \\{1, \\dots, n\\},  \\forall j \\in \\{1, \\dots, n\\} \\\\\n",
    "& & &  y_{i} \\in \\{0,1\\}, \\forall j \\in \\{1, \\dots, n\\} \\\\\n",
    "\\end{aligned}\n",
    "\\end{equation}\n",
    "$\n",
    "\n",
    "$\n",
    "\\text{where } y_{i}=1 \\text{ if bin } i \\text{ is used and } x_{ij}=1 \\text{ if item }j \\text{ is put into bin } i\n",
    "$"
   ]
  },
  {
   "cell_type": "code",
   "execution_count": null,
   "metadata": {
    "collapsed": true
   },
   "outputs": [],
   "source": []
  }
 ],
 "metadata": {
  "kernelspec": {
   "display_name": "Python 2",
   "language": "python",
   "name": "python2"
  },
  "language_info": {
   "codemirror_mode": {
    "name": "ipython",
    "version": 2
   },
   "file_extension": ".py",
   "mimetype": "text/x-python",
   "name": "python",
   "nbconvert_exporter": "python",
   "pygments_lexer": "ipython2",
   "version": "2.7.6"
  }
 },
 "nbformat": 4,
 "nbformat_minor": 2
}
