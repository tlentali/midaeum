{
 "cells": [
  {
   "cell_type": "markdown",
   "metadata": {},
   "source": [
    "# Knapsack"
   ]
  },
  {
   "cell_type": "markdown",
   "metadata": {},
   "source": [
    "$\n",
    "\\begin{equation}\n",
    "\\begin{aligned}\n",
    "& \\text{Given a :}\\\\ \n",
    "& & \\text{set of n items numbered from 1 up to n, each with a weight } w_i \\text{ and a value } v_i\\\\\n",
    "& & \\text{maximum weight capacity W}\\\\\n",
    "& \\text{Objective :} \\\\\n",
    "& & \\text{maximize the sum of the values of the items in the knapsack}\\\\ \n",
    "\\end{aligned}\n",
    "\\end{equation}\n",
    "$\n",
    "\n",
    "$\n",
    "\\begin{equation}\n",
    "\\begin{aligned}\n",
    "& {\\text{max}}\n",
    "& & \\sum_{i=1}^{n} v_i x_i \\\\\n",
    "& \\text{s.t.}\n",
    "& & \\sum_{i=1}^{n}w_{j} x_{i} \\leq W \\\\\n",
    "& & & 0 \\leq x_i \\leq c\\end{aligned}\n",
    "\\end{equation}\n",
    "$\n",
    "\n",
    "$\n",
    "x_{i} \\text{ the number of copies of each kind of item to a maximum non-negative integer value c}\n",
    "$"
   ]
  },
  {
   "cell_type": "code",
   "execution_count": 1,
   "metadata": {
    "collapsed": true
   },
   "outputs": [],
   "source": [
    "# Import PuLP modeler functions                                                 \n",
    "from pulp import *"
   ]
  },
  {
   "cell_type": "code",
   "execution_count": 2,
   "metadata": {
    "collapsed": false
   },
   "outputs": [
    {
     "name": "stdout",
     "output_type": "stream",
     "text": [
      "Status: Optimal\n",
      "x1 = 0.0\n",
      "x10 = 12.0\n",
      "x11 = 0.0\n",
      "x12 = 0.0\n",
      "x13 = 0.0\n",
      "x14 = 0.0\n",
      "x15 = 0.0\n",
      "x16 = 0.0\n",
      "x17 = 0.0\n",
      "x18 = 0.0\n",
      "x19 = 0.0\n",
      "x2 = 0.0\n",
      "x20 = 0.0\n",
      "x21 = 0.0\n",
      "x22 = 0.0\n",
      "x23 = 0.0\n",
      "x24 = 0.0\n",
      "x25 = 0.0\n",
      "x3 = 0.0\n",
      "x4 = 0.0\n",
      "x5 = 0.0\n",
      "x6 = 0.0\n",
      "x7 = 12.0\n",
      "x8 = 12.0\n",
      "x9 = 12.0\n",
      "objective = 660.0\n"
     ]
    }
   ],
   "source": [
    "prob = LpProblem(\"Knapsack problem\", LpMaximize)\n",
    "\n",
    "x1 = LpVariable(\"x1\", 0, 12, 'Integer')\n",
    "x2 = LpVariable(\"x2\", 0, 12, 'Integer')\n",
    "x3 = LpVariable(\"x3\", 0, 12, 'Integer')\n",
    "x4 = LpVariable(\"x4\", 0, 12, 'Integer')\n",
    "x5 = LpVariable(\"x5\", 0, 12, 'Integer')\n",
    "x6 = LpVariable(\"x6\", 0, 12, 'Integer')\n",
    "x7 = LpVariable(\"x7\", 0, 12, 'Integer')\n",
    "x8 = LpVariable(\"x8\", 0, 12, 'Integer')\n",
    "x9 = LpVariable(\"x9\", 0, 12, 'Integer')\n",
    "x10 = LpVariable(\"x10\", 0, 12, 'Integer')\n",
    "x11 = LpVariable(\"x11\", 0, 12, 'Integer')\n",
    "x12 = LpVariable(\"x12\", 0, 12, 'Integer')\n",
    "x13 = LpVariable(\"x13\", 0, 12, 'Integer')\n",
    "x14 = LpVariable(\"x14\", 0, 12, 'Integer')\n",
    "x15 = LpVariable(\"x15\", 0, 12, 'Integer')\n",
    "x16 = LpVariable(\"x16\", 0, 12, 'Integer')\n",
    "x17 = LpVariable(\"x17\", 0, 12, 'Integer')\n",
    "x18 = LpVariable(\"x18\", 0, 12, 'Integer')\n",
    "x19 = LpVariable(\"x19\", 0, 12, 'Integer')\n",
    "x20 = LpVariable(\"x20\", 0, 12, 'Integer')\n",
    "x21 = LpVariable(\"x21\", 0, 12, 'Integer')\n",
    "x22 = LpVariable(\"x22\", 0, 12, 'Integer')\n",
    "x23 = LpVariable(\"x23\", 0, 12, 'Integer')\n",
    "x24 = LpVariable(\"x24\", 0, 12, 'Integer')\n",
    "x25 = LpVariable(\"x25\", 0, 12, 'Integer')\n",
    "\n",
    "prob += 15 * x1 + 18 * x2 + 18 * x3 + 23 * x4 + 18 * x5 + 20 * x6 + 15 * x7 + 16 * x8 + 12 * x9 + 12 * x10 + 25 * x11 + 25 * x12 + 28 * x13 + 35 * x14 + 28 * x15 + 28 * x16 + 25 * x17 + 25 * x18 + 25 * x19 + 28 * x20 + 25 * x21 + 32 * x22 + 32 * x23 + 28 * x24 + 25 * x25, \"obj\"\n",
    "\n",
    "prob += 150 * x1 + 180 * x2 + 180 * x3 + 230 * x4 + 180 * x5 + 200 * x6 + 150 * x7 + 160 * x8 + 120 * x9 + 120 * x10 + 250 * x11 + 250 * x12 + 280 * x13 + 350 * x14 + 280 * x15 + 280 * x16 + 250 * x17 + 250 * x18 + 250 * x19 + 280 * x20 + 250 * x21 + 320 * x22 + 320 * x23 + 280 * x24 + 250 * x25 == 6600, \"c1\"\n",
    "\n",
    "prob.solve()\n",
    "\n",
    "print \"Status:\", LpStatus[prob.status]\n",
    "\n",
    "for v in prob.variables():\n",
    "    print v.name, \"=\", v.varValue\n",
    "\n",
    "print (\"objective = %s\" % value(prob.objective))"
   ]
  },
  {
   "cell_type": "code",
   "execution_count": 10,
   "metadata": {
    "collapsed": false
   },
   "outputs": [
    {
     "name": "stdout",
     "output_type": "stream",
     "text": [
      "Status: Optimal\n",
      "x_6 = 12.0\n",
      "x_7 = 12.0\n",
      "x_8 = 12.0\n",
      "x_9 = 12.0\n",
      "objective = 660.0\n"
     ]
    }
   ],
   "source": [
    "from pulp import *\n",
    "prob = LpProblem(\"Knapsack problem\", LpMaximize)\n",
    "cost = [15,18,18,23,18,20,15,16,12,12,25,25,28,35,28,28,25,25,25,28,25,32,32,28,25]\n",
    "x = LpVariable.dicts('x',range(1,26),lowBound=0,upBound=12,cat=pulp.LpInteger)\n",
    "cap = [150,180,180,230,180,200,150,160,120,120,250,250,280,350,280,280,250,250,250,280,250,320,320,280,250] \n",
    "prob += pulp.lpSum([cost[ix]*x[ix] for ix in range(1,25)]), \"obj\"\n",
    "prob += pulp.lpSum([cap[ix]*x[ix] for ix in range(1,25)]) == 6600, \"c1\"\n",
    "prob.solve()\n",
    "\n",
    "print \"Status:\", LpStatus[prob.status]\n",
    "\n",
    "for v in prob.variables():\n",
    "    if v.varValue>0.0001:\n",
    "        print v.name, \"=\", v.varValue\n",
    "\n",
    "print (\"objective = %s\" % value(prob.objective))"
   ]
  },
  {
   "cell_type": "code",
   "execution_count": 5,
   "metadata": {
    "collapsed": false
   },
   "outputs": [
    {
     "data": {
      "text/plain": [
       "6600"
      ]
     },
     "execution_count": 5,
     "metadata": {},
     "output_type": "execute_result"
    }
   ],
   "source": [
    "12*120+12*150+12*160+12*120"
   ]
  },
  {
   "cell_type": "code",
   "execution_count": null,
   "metadata": {
    "collapsed": true
   },
   "outputs": [],
   "source": []
  }
 ],
 "metadata": {
  "kernelspec": {
   "display_name": "Python 2",
   "language": "python",
   "name": "python2"
  },
  "language_info": {
   "codemirror_mode": {
    "name": "ipython",
    "version": 2
   },
   "file_extension": ".py",
   "mimetype": "text/x-python",
   "name": "python",
   "nbconvert_exporter": "python",
   "pygments_lexer": "ipython2",
   "version": "2.7.6"
  }
 },
 "nbformat": 4,
 "nbformat_minor": 0
}
